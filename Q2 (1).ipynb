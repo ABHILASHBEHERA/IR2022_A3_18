{
  "nbformat": 4,
  "nbformat_minor": 0,
  "metadata": {
    "colab": {
      "name": "Q2.ipynb",
      "provenance": []
    },
    "kernelspec": {
      "name": "python3",
      "display_name": "Python 3"
    },
    "language_info": {
      "name": "python"
    }
  },
  "cells": [
    {
      "cell_type": "code",
      "execution_count": null,
      "metadata": {
        "id": "7NaHp3xT110e"
      },
      "outputs": [],
      "source": [
        "import numpy as np\n",
        "import pandas as pd\n",
        "import matplotlib.pyplot as plt"
      ]
    },
    {
      "cell_type": "code",
      "source": [
        "#mounting google drive\n",
        "from google.colab import drive\n",
        "drive.mount('/content/drive')"
      ],
      "metadata": {
        "colab": {
          "base_uri": "https://localhost:8080/"
        },
        "id": "3csv3pyx2Bhk",
        "outputId": "fdc04e3d-4300-492d-c9c5-dd5d48db0897"
      },
      "execution_count": null,
      "outputs": [
        {
          "output_type": "stream",
          "name": "stdout",
          "text": [
            "Mounted at /content/drive\n"
          ]
        }
      ]
    },
    {
      "cell_type": "code",
      "source": [
        "df = pd.read_csv('/content/drive/MyDrive/Information Retrieval/A3/email-Eu-core.txt',sep = ' ', header=None)"
      ],
      "metadata": {
        "id": "Lys7v5SM2BY5"
      },
      "execution_count": null,
      "outputs": []
    },
    {
      "cell_type": "code",
      "source": [
        "edges_arr = np.array(df)"
      ],
      "metadata": {
        "id": "lxNIGgiP2BKW"
      },
      "execution_count": null,
      "outputs": []
    },
    {
      "cell_type": "code",
      "source": [
        "edges_arr"
      ],
      "metadata": {
        "colab": {
          "base_uri": "https://localhost:8080/"
        },
        "id": "a0MbuViUyHfO",
        "outputId": "802c3388-aa0d-4ab0-92f8-08c5d1744ded"
      },
      "execution_count": null,
      "outputs": [
        {
          "output_type": "execute_result",
          "data": {
            "text/plain": [
              "array([[  0,   1],\n",
              "       [  2,   3],\n",
              "       [  2,   4],\n",
              "       ...,\n",
              "       [440, 460],\n",
              "       [ 52, 786],\n",
              "       [506, 932]])"
            ]
          },
          "metadata": {},
          "execution_count": 5
        }
      ]
    },
    {
      "cell_type": "code",
      "source": [
        "count = 0\n",
        "for i in range(25571):\n",
        "  if(edges_arr[i,0] == edges_arr[i,1]):\n",
        "    count += 1\n",
        "print(count)"
      ],
      "metadata": {
        "colab": {
          "base_uri": "https://localhost:8080/"
        },
        "id": "tc80oEEVOdAC",
        "outputId": "e07a5818-b88e-4a94-faac-e563a6b1da42"
      },
      "execution_count": null,
      "outputs": [
        {
          "output_type": "stream",
          "name": "stdout",
          "text": [
            "642\n"
          ]
        }
      ]
    },
    {
      "cell_type": "code",
      "source": [
        "adj_mat = np.zeros((1005,1005))"
      ],
      "metadata": {
        "id": "86seRkZO9Z4F"
      },
      "execution_count": null,
      "outputs": []
    },
    {
      "cell_type": "code",
      "source": [
        "adj_mat"
      ],
      "metadata": {
        "colab": {
          "base_uri": "https://localhost:8080/"
        },
        "id": "GO_Y7waG9fd-",
        "outputId": "fa4e4300-2086-4c0b-83cd-f3ec50485ac1"
      },
      "execution_count": null,
      "outputs": [
        {
          "output_type": "execute_result",
          "data": {
            "text/plain": [
              "array([[0., 0., 0., ..., 0., 0., 0.],\n",
              "       [0., 0., 0., ..., 0., 0., 0.],\n",
              "       [0., 0., 0., ..., 0., 0., 0.],\n",
              "       ...,\n",
              "       [0., 0., 0., ..., 0., 0., 0.],\n",
              "       [0., 0., 0., ..., 0., 0., 0.],\n",
              "       [0., 0., 0., ..., 0., 0., 0.]])"
            ]
          },
          "metadata": {},
          "execution_count": 8
        }
      ]
    },
    {
      "cell_type": "code",
      "source": [
        "for i in range(edges_arr.shape[0]):\n",
        "  adj_mat[edges_arr[i][0],edges_arr[i][1]] += 1"
      ],
      "metadata": {
        "id": "S4Ot85UcAFnP"
      },
      "execution_count": null,
      "outputs": []
    },
    {
      "cell_type": "code",
      "source": [
        "np.where(adj_mat[:,5] == 1)"
      ],
      "metadata": {
        "colab": {
          "base_uri": "https://localhost:8080/"
        },
        "id": "f42VXqoY2OCw",
        "outputId": "2558ac11-0a8f-498c-b918-71c5f22ce779"
      },
      "execution_count": null,
      "outputs": [
        {
          "output_type": "execute_result",
          "data": {
            "text/plain": [
              "(array([  0,   2,   5,   6,   7,  21,  29,  34,  35,  41,  42,  57,  58,\n",
              "         59,  64,  82,  97, 100, 102, 105, 106, 115, 120, 125, 128, 132,\n",
              "        133, 134, 135, 140, 141, 157, 163, 169, 170, 171, 177, 183, 184,\n",
              "        189, 191, 194, 195, 198, 201, 207, 209, 211, 215, 218, 230, 232,\n",
              "        234, 236, 237, 242, 249, 252, 255, 269, 281, 283, 284, 285, 302,\n",
              "        303, 305, 309, 318, 323, 327, 333, 337, 346, 349, 351, 357, 362,\n",
              "        374, 379, 405, 408, 411, 417, 419, 420, 423, 430, 437, 438, 440,\n",
              "        445, 450, 455, 458, 462, 466, 481, 486, 489, 492, 511, 516, 520,\n",
              "        527, 528, 619, 644, 681, 690, 697, 716, 726, 730, 763, 789, 809,\n",
              "        815, 820, 833, 900, 902, 931, 980]),)"
            ]
          },
          "metadata": {},
          "execution_count": 10
        }
      ]
    },
    {
      "cell_type": "code",
      "source": [
        "adj_mat[816,816]"
      ],
      "metadata": {
        "colab": {
          "base_uri": "https://localhost:8080/"
        },
        "id": "GTZkvnNm2N9f",
        "outputId": "183cb18f-6401-4692-9fb1-89a4172ab629"
      },
      "execution_count": null,
      "outputs": [
        {
          "output_type": "execute_result",
          "data": {
            "text/plain": [
              "1.0"
            ]
          },
          "metadata": {},
          "execution_count": 11
        }
      ]
    },
    {
      "cell_type": "code",
      "source": [
        "count = 0\n",
        "for i in range(1005):\n",
        "  if(adj_mat[i,i] == 1):\n",
        "    count += 1\n",
        "print(count)"
      ],
      "metadata": {
        "colab": {
          "base_uri": "https://localhost:8080/"
        },
        "id": "vnB3j1EQOGiY",
        "outputId": "327674a4-6519-4034-fe13-1ef2e59e9370"
      },
      "execution_count": null,
      "outputs": [
        {
          "output_type": "stream",
          "name": "stdout",
          "text": [
            "642\n"
          ]
        }
      ]
    },
    {
      "cell_type": "code",
      "source": [
        "def PageRank(in_val = 1 , d = 0.1, max_iter = 100):\n",
        "    node_list = [i for i in range(1005)]\n",
        "    pagerank = [in_val for _ in range(1005)]\n",
        "    for iter in range(max_iter):\n",
        "      for node in node_list:\n",
        "          in_neighbors = np.where(adj_mat[:,node] == 1)[0]\n",
        "          pagerank_sum = sum((pagerank[neigh] /  np.where(adj_mat[neigh,:] == 1)[0].shape[0]) for neigh in in_neighbors)\n",
        "          random_walk = d / 1005\n",
        "          pagerank[node] = random_walk + (1-d) * pagerank_sum\n",
        "    return pagerank"
      ],
      "metadata": {
        "id": "aiYmmU3SPRaL"
      },
      "execution_count": null,
      "outputs": []
    },
    {
      "cell_type": "code",
      "source": [
        "pr = PageRank()\n",
        "  "
      ],
      "metadata": {
        "id": "K4_DqQGUXd8L"
      },
      "execution_count": null,
      "outputs": []
    },
    {
      "cell_type": "markdown",
      "source": [
        "#HIT"
      ],
      "metadata": {
        "id": "-xh5voUVwlHz"
      }
    },
    {
      "cell_type": "code",
      "source": [
        "import math\n",
        "def hit(max_iter = 1):\n",
        "  \n",
        "  hub_scores = np.array([1 for _ in range(1005)], dtype=np.float64)\n",
        "  authority_scores = np.array([1 for _ in range(1005)], dtype=np.float64)\n",
        "  \n",
        "  \n",
        "  for iter in range(max_iter):\n",
        "    \n",
        "    for node in range(1005):\n",
        "      in_neighbors = np.where(adj_mat[:,node] == 1)[0] \n",
        "      out_neighbors = np.where(adj_mat[node,:] == 1)[0]\n",
        "      hub_scores[node] = np.sum(authority_scores[out_neighbors])\n",
        "      authority_scores[node] = np.sum(hub_scores[in_neighbors])\n",
        "    \n",
        "    #hub_norm = math.sqrt((np.sum(hub_scores**2)))\n",
        "    #authority_norm = math.sqrt((np.sum(authority_scores**2)))\n",
        "\n",
        "    hub_norm = np.sum(hub_scores)\n",
        "    authority_norm = np.sum(authority_scores)\n",
        "\n",
        "    # hub_norm = np.linalg.norm(hub_scores)\n",
        "    # authority_norm = np.linalg.norm(authority_scores)\n",
        "    \n",
        "    hub_scores = hub_scores / hub_norm\n",
        "    authority_scores = authority_scores / authority_norm\n",
        "  \n",
        "  return hub_scores, authority_scores"
      ],
      "metadata": {
        "id": "hDT8xehWwyu5"
      },
      "execution_count": null,
      "outputs": []
    },
    {
      "cell_type": "code",
      "source": [
        "hub,auth = hit(1)"
      ],
      "metadata": {
        "id": "Cs386y8tyMbv"
      },
      "execution_count": null,
      "outputs": []
    },
    {
      "cell_type": "code",
      "source": [
        "hub"
      ],
      "metadata": {
        "colab": {
          "base_uri": "https://localhost:8080/"
        },
        "id": "hc6AXsd91Ckr",
        "outputId": "481b5814-a73d-445f-bbf9-764138409760"
      },
      "execution_count": null,
      "outputs": [
        {
          "output_type": "execute_result",
          "data": {
            "text/plain": [
              "array([1.70324269e-47, 4.15425045e-49, 3.48957038e-47, ...,\n",
              "       0.00000000e+00, 9.64933061e-20, 0.00000000e+00])"
            ]
          },
          "metadata": {},
          "execution_count": 18
        }
      ]
    },
    {
      "cell_type": "code",
      "source": [
        "hub"
      ],
      "metadata": {
        "colab": {
          "base_uri": "https://localhost:8080/"
        },
        "id": "WosbMLE13mgG",
        "outputId": "128552e1-2fd7-4f1f-ab39-245c9e8723b5"
      },
      "execution_count": null,
      "outputs": [
        {
          "output_type": "execute_result",
          "data": {
            "text/plain": [
              "array([1.70324269e-47, 4.15425045e-49, 3.48957038e-47, ...,\n",
              "       0.00000000e+00, 9.64933061e-20, 0.00000000e+00])"
            ]
          },
          "metadata": {},
          "execution_count": 19
        }
      ]
    },
    {
      "cell_type": "code",
      "source": [
        "#for i in range(1005):\n",
        "#  print(pr[i] ,\"     \", hub[i] ,\"     \", auth[i])\n",
        "\n",
        "plt.plot([i for i in range(1005)],pr,c='green')\n"
      ],
      "metadata": {
        "id": "V7AVOqg-3vo8",
        "colab": {
          "base_uri": "https://localhost:8080/",
          "height": 282
        },
        "outputId": "c80782f6-1e9d-437c-de5c-774b10bc294f"
      },
      "execution_count": null,
      "outputs": [
        {
          "output_type": "execute_result",
          "data": {
            "text/plain": [
              "[<matplotlib.lines.Line2D at 0x7f1981e71710>]"
            ]
          },
          "metadata": {},
          "execution_count": 20
        },
        {
          "output_type": "display_data",
          "data": {
            "text/plain": [
              "<Figure size 432x288 with 1 Axes>"
            ],
            "image/png": "[encoded data removed]"
          },
          "metadata": {
            "needs_background": "light"
          }
        }
      ]
    },
    {
      "cell_type": "code",
      "source": [
        "plt.plot([i for i in range(1005)],hub,c='red')"
      ],
      "metadata": {
        "colab": {
          "base_uri": "https://localhost:8080/",
          "height": 286
        },
        "id": "R8u6T5UttKbb",
        "outputId": "e91e26ec-2b99-4dc7-8e5b-aca25cebca64"
      },
      "execution_count": null,
      "outputs": [
        {
          "output_type": "execute_result",
          "data": {
            "text/plain": [
              "[<matplotlib.lines.Line2D at 0x7f19819125d0>]"
            ]
          },
          "metadata": {},
          "execution_count": 21
        },
        {
          "output_type": "display_data",
          "data": {
            "text/plain": [
              "<Figure size 432x288 with 1 Axes>"
            ],
            "image/png": "[encoded data removed]"
          },
          "metadata": {
            "needs_background": "light"
          }
        }
      ]
    },
    {
      "cell_type": "code",
      "source": [
        "plt.plot([i for i in range(1005)],auth,c='blue')"
      ],
      "metadata": {
        "colab": {
          "base_uri": "https://localhost:8080/",
          "height": 282
        },
        "id": "gs099o5qu7Ly",
        "outputId": "fafe80bd-ed1f-4d70-b24d-2b5442976787"
      },
      "execution_count": null,
      "outputs": [
        {
          "output_type": "execute_result",
          "data": {
            "text/plain": [
              "[<matplotlib.lines.Line2D at 0x7f1981886b50>]"
            ]
          },
          "metadata": {},
          "execution_count": 22
        },
        {
          "output_type": "display_data",
          "data": {
            "text/plain": [
              "<Figure size 432x288 with 1 Axes>"
            ],
            "image/png": "[encoded data removed]"
          },
          "metadata": {
            "needs_background": "light"
          }
        }
      ]
    },
    {
      "cell_type": "code",
      "source": [
        "import networkx as nx\n",
        "   \n",
        "G = nx.Graph()\n",
        "G.add_nodes_from([i for i in range(1005)])\n",
        "G.add_edges_from(edges_arr)\n"
      ],
      "metadata": {
        "id": "vsxIsckWxmWF"
      },
      "execution_count": null,
      "outputs": []
    },
    {
      "cell_type": "code",
      "source": [
        "pr=nx.pagerank(G,0.1)"
      ],
      "metadata": {
        "id": "I_sLNBPNyOL_"
      },
      "execution_count": null,
      "outputs": []
    },
    {
      "cell_type": "code",
      "source": [
        "pr"
      ],
      "metadata": {
        "colab": {
          "base_uri": "https://localhost:8080/"
        },
        "id": "FyFy6dRiyriz",
        "outputId": "74c829f8-e507-4da4-8e89-e3814b0b1228"
      },
      "execution_count": null,
      "outputs": [
        {
          "output_type": "execute_result",
          "data": {
            "text/plain": [
              "{0: 0.0010012665238367394,\n",
              " 1: 0.0010325335814251645,\n",
              " 2: 0.0012245314524361802,\n",
              " 3: 0.0010609198505402758,\n",
              " 4: 0.0011477241405605954,\n",
              " 5: 0.0016346578573148511,\n",
              " 6: 0.0012863447458259995,\n",
              " 7: 0.0011199845753505342,\n",
              " 8: 0.000984064584355135,\n",
              " 9: 0.0010282756019671187,\n",
              " 10: 0.0009960361116832048,\n",
              " 11: 0.0011101810843310437,\n",
              " 12: 0.00114075182687039,\n",
              " 13: 0.0013969965746417098,\n",
              " 14: 0.0011209608256081151,\n",
              " 15: 0.001044373805799909,\n",
              " 16: 0.0010381426529244996,\n",
              " 17: 0.0011588881881139834,\n",
              " 18: 0.0010342734154685077,\n",
              " 19: 0.0010658243681338595,\n",
              " 20: 0.0011114332279085995,\n",
              " 21: 0.0013601560018956843,\n",
              " 22: 0.0009323342890510972,\n",
              " 23: 0.0010967207881839032,\n",
              " 24: 0.0010845547657738525,\n",
              " 25: 0.0009575899072363557,\n",
              " 26: 0.0009757422963846162,\n",
              " 27: 0.0011143482855110079,\n",
              " 28: 0.001133179917018277,\n",
              " 29: 0.001023712680806595,\n",
              " 30: 0.0010525104423320338,\n",
              " 31: 0.0009831091196377244,\n",
              " 32: 0.0009685611627934009,\n",
              " 33: 0.0009713004172290027,\n",
              " 34: 0.0009615532441966482,\n",
              " 35: 0.0010251851632514207,\n",
              " 36: 0.0009735001168351739,\n",
              " 37: 0.000997512258923204,\n",
              " 38: 0.0010992639201458944,\n",
              " 39: 0.0009663441801153321,\n",
              " 40: 0.0010658724383512553,\n",
              " 41: 0.0011152635288093488,\n",
              " 42: 0.001021222253487934,\n",
              " 43: 0.0009425362109617016,\n",
              " 44: 0.0012072673676748092,\n",
              " 45: 0.001044157158821811,\n",
              " 46: 0.0010312241385107787,\n",
              " 47: 0.0009960300797694807,\n",
              " 48: 0.0010400289345578202,\n",
              " 49: 0.0009439206885223932,\n",
              " 50: 0.0009471978111757171,\n",
              " 51: 0.0010916889227572078,\n",
              " 52: 0.0010924524630067985,\n",
              " 53: 0.0009788648727125252,\n",
              " 54: 0.0010107489489833816,\n",
              " 55: 0.001075166307406614,\n",
              " 56: 0.0010281341535098888,\n",
              " 57: 0.0011700664089806983,\n",
              " 58: 0.001179434486187752,\n",
              " 59: 0.0010359672003350017,\n",
              " 60: 0.0010342349427904878,\n",
              " 61: 0.0010799486254198366,\n",
              " 62: 0.0014804858948056295,\n",
              " 63: 0.0012045113814113679,\n",
              " 64: 0.0013614541959328184,\n",
              " 65: 0.0014256657049014254,\n",
              " 66: 0.001035221974491958,\n",
              " 67: 0.0009111143093286288,\n",
              " 68: 0.00098405389055893,\n",
              " 69: 0.0011315035254186934,\n",
              " 70: 0.0009339885931164435,\n",
              " 71: 0.0009573942464278299,\n",
              " 72: 0.0010003543704735203,\n",
              " 73: 0.0009762863482342875,\n",
              " 74: 0.001167933953744916,\n",
              " 75: 0.0009460159056123453,\n",
              " 76: 0.0009510518411948891,\n",
              " 77: 0.0009599163211457958,\n",
              " 78: 0.0009444428964616255,\n",
              " 79: 0.001001312961569798,\n",
              " 80: 0.001059432238115506,\n",
              " 81: 0.0011661871581413088,\n",
              " 82: 0.0016509828661199222,\n",
              " 83: 0.0012214715158347306,\n",
              " 84: 0.0014929991296335856,\n",
              " 85: 0.001023198925300858,\n",
              " 86: 0.0015679594328879437,\n",
              " 87: 0.0012651878379315348,\n",
              " 88: 0.001070385012152813,\n",
              " 89: 0.0010817893779270869,\n",
              " 90: 0.0009581025007530926,\n",
              " 91: 0.0010121476971806558,\n",
              " 92: 0.0010568245967697767,\n",
              " 93: 0.001135909374396171,\n",
              " 94: 0.0010114094604815871,\n",
              " 95: 0.0010323774469930876,\n",
              " 96: 0.0014138430857996596,\n",
              " 97: 0.0009817391615763917,\n",
              " 98: 0.0009664821581047468,\n",
              " 99: 0.0009729742329896685,\n",
              " 100: 0.0010465428691935495,\n",
              " 101: 0.0009769149657123766,\n",
              " 102: 0.0009777653106648394,\n",
              " 103: 0.001021538746830177,\n",
              " 104: 0.0009620432687286084,\n",
              " 105: 0.0011629839376965318,\n",
              " 106: 0.0012631181834891593,\n",
              " 107: 0.0016605532570046237,\n",
              " 108: 0.001051390259337947,\n",
              " 109: 0.0009023172808092787,\n",
              " 110: 0.0009317814981708775,\n",
              " 111: 0.0009191651950556874,\n",
              " 112: 0.0009537106049028787,\n",
              " 113: 0.0011084221009964143,\n",
              " 114: 0.0012445344460206816,\n",
              " 115: 0.0012019373868903936,\n",
              " 116: 0.00107300758530895,\n",
              " 117: 0.0009367292856292066,\n",
              " 118: 0.0009723003368806428,\n",
              " 119: 0.00093618156973238,\n",
              " 120: 0.000937683150768013,\n",
              " 121: 0.0016536953987927525,\n",
              " 122: 0.0009664438754256681,\n",
              " 123: 0.000968272541436881,\n",
              " 124: 0.0010687213253439312,\n",
              " 125: 0.0010026035897268434,\n",
              " 126: 0.0009723041102517079,\n",
              " 127: 0.0009602936231989725,\n",
              " 128: 0.0012459760346807543,\n",
              " 129: 0.0013239670581536925,\n",
              " 130: 0.0010197526931259536,\n",
              " 131: 0.0010440993521223672,\n",
              " 132: 0.00101526534330263,\n",
              " 133: 0.001146583524471255,\n",
              " 134: 0.001022777765917912,\n",
              " 135: 0.0009664587833853372,\n",
              " 136: 0.000943178028304846,\n",
              " 137: 0.0012467948199687924,\n",
              " 138: 0.0009626820046510598,\n",
              " 139: 0.0010129085250272399,\n",
              " 140: 0.001037395562417613,\n",
              " 141: 0.001132454797948829,\n",
              " 142: 0.0011837973448810008,\n",
              " 143: 0.0009992252276024832,\n",
              " 144: 0.0009234840156513649,\n",
              " 145: 0.001117861777267682,\n",
              " 146: 0.0009910540612450376,\n",
              " 147: 0.0009733790370826068,\n",
              " 148: 0.0009584404764516741,\n",
              " 149: 0.0009813961461805488,\n",
              " 150: 0.0009920833479375023,\n",
              " 151: 0.0009847137635927818,\n",
              " 152: 0.0010316204419827594,\n",
              " 153: 0.000995718367782647,\n",
              " 154: 0.0009928438473477833,\n",
              " 155: 0.0011094416727569561,\n",
              " 156: 0.0009967946320927554,\n",
              " 157: 0.0012552898184304115,\n",
              " 158: 0.0010360087300801037,\n",
              " 159: 0.0010081022372046835,\n",
              " 160: 0.002071854693202211,\n",
              " 161: 0.0009938899693777506,\n",
              " 162: 0.0010628753705045535,\n",
              " 163: 0.0010735545094910095,\n",
              " 164: 0.0010239719343377136,\n",
              " 165: 0.0011906177838106372,\n",
              " 166: 0.0013926524628572895,\n",
              " 167: 0.0010849981958576545,\n",
              " 168: 0.0011121399036607162,\n",
              " 169: 0.0011132820108325798,\n",
              " 170: 0.0011953770887964928,\n",
              " 171: 0.0009802109043513458,\n",
              " 172: 0.001093011019880215,\n",
              " 173: 0.0010985480032715408,\n",
              " 174: 0.0010355901938907718,\n",
              " 175: 0.0009177312073568546,\n",
              " 176: 0.0009857304882249173,\n",
              " 177: 0.0010697053119588427,\n",
              " 178: 0.0010215884991758367,\n",
              " 179: 0.0010410240083518305,\n",
              " 180: 0.0011206847482749206,\n",
              " 181: 0.0010868941645190981,\n",
              " 182: 0.0010371091849405807,\n",
              " 183: 0.0012724753819267362,\n",
              " 184: 0.0011369164602461044,\n",
              " 185: 0.001027980096968588,\n",
              " 186: 0.000953894636706308,\n",
              " 187: 0.0009816295881787582,\n",
              " 188: 0.000966332827360727,\n",
              " 189: 0.001296973975432816,\n",
              " 190: 0.0009449403690920162,\n",
              " 191: 0.0012912264115046124,\n",
              " 192: 0.0009694122597779938,\n",
              " 193: 0.0009635573661983791,\n",
              " 194: 0.0010100254819612289,\n",
              " 195: 0.000979100553493541,\n",
              " 196: 0.0009658471119272018,\n",
              " 197: 0.0009777790893678877,\n",
              " 198: 0.0010081669226412134,\n",
              " 199: 0.0010799590229403073,\n",
              " 200: 0.000982677830153298,\n",
              " 201: 0.0010088977808432593,\n",
              " 202: 0.0009159374897605166,\n",
              " 203: 0.0009842193363212531,\n",
              " 204: 0.0009737530229414945,\n",
              " 205: 0.000976533555262175,\n",
              " 206: 0.0011127229767858623,\n",
              " 207: 0.0009532589676587611,\n",
              " 208: 0.0010011541423473995,\n",
              " 209: 0.001175983860198326,\n",
              " 210: 0.0010458783394645089,\n",
              " 211: 0.0015531835072484877,\n",
              " 212: 0.0011116312231966576,\n",
              " 213: 0.0010536214199028835,\n",
              " 214: 0.0010065455087643238,\n",
              " 215: 0.0011908230234071483,\n",
              " 216: 0.000958997262467991,\n",
              " 217: 0.0009821509779270395,\n",
              " 218: 0.0010898485246538306,\n",
              " 219: 0.0009232410931592991,\n",
              " 220: 0.0009249432175771154,\n",
              " 221: 0.0010321492536055105,\n",
              " 222: 0.0010966584579114001,\n",
              " 223: 0.0010271143677290963,\n",
              " 224: 0.0009273481464371454,\n",
              " 225: 0.0009505873703448938,\n",
              " 226: 0.0010140151795870456,\n",
              " 227: 0.0009365381875717696,\n",
              " 228: 0.0009339033322030483,\n",
              " 229: 0.0009713780794117316,\n",
              " 230: 0.0009952628009543716,\n",
              " 231: 0.0012408336310324778,\n",
              " 232: 0.0011893520530590162,\n",
              " 233: 0.0010463554117820387,\n",
              " 234: 0.001056290809454248,\n",
              " 235: 0.0009586739686107957,\n",
              " 236: 0.0009942633342941807,\n",
              " 237: 0.0009763734667915832,\n",
              " 238: 0.0011035341103726574,\n",
              " 239: 0.0009142505448665835,\n",
              " 240: 0.0009465375646359155,\n",
              " 241: 0.0009529752865134514,\n",
              " 242: 0.0010914485316143546,\n",
              " 243: 0.001037968678709602,\n",
              " 244: 0.0009511024397001117,\n",
              " 245: 0.0010035374508732522,\n",
              " 246: 0.0009591351271880201,\n",
              " 247: 0.0009423579722178175,\n",
              " 248: 0.0009732872780565522,\n",
              " 249: 0.0012219405281207573,\n",
              " 250: 0.0009771924808316364,\n",
              " 251: 0.000968421301805438,\n",
              " 252: 0.0012049575962089012,\n",
              " 253: 0.0009772699652443213,\n",
              " 254: 0.0010402334484417648,\n",
              " 255: 0.0010371322452240306,\n",
              " 256: 0.0011628238604127266,\n",
              " 257: 0.0009363228964322463,\n",
              " 258: 0.0012673813443298528,\n",
              " 259: 0.000994248771503887,\n",
              " 260: 0.0009552138949734085,\n",
              " 261: 0.0010214782141101347,\n",
              " 262: 0.0010256439814125599,\n",
              " 263: 0.0011132956274104713,\n",
              " 264: 0.000994465035948531,\n",
              " 265: 0.0010196457450690477,\n",
              " 266: 0.0009915728647237854,\n",
              " 267: 0.0009540479620941699,\n",
              " 268: 0.0009899213374562985,\n",
              " 269: 0.0011765730993452536,\n",
              " 270: 0.0009175785672792373,\n",
              " 271: 0.0010817713284683745,\n",
              " 272: 0.0010496011057814802,\n",
              " 273: 0.0009883288612897985,\n",
              " 274: 0.0009522585867187317,\n",
              " 275: 0.0010144233626562555,\n",
              " 276: 0.0009228681632414814,\n",
              " 277: 0.0009514327575142963,\n",
              " 278: 0.001032374421636498,\n",
              " 279: 0.0009144022364850591,\n",
              " 280: 0.0011792881358862126,\n",
              " 281: 0.0010211685394989724,\n",
              " 282: 0.0012020414249845702,\n",
              " 283: 0.0012051705027880278,\n",
              " 284: 0.0010202596785643643,\n",
              " 285: 0.001207939907878772,\n",
              " 286: 0.0009906106410307817,\n",
              " 287: 0.0009568707538787774,\n",
              " 288: 0.0010047531740751557,\n",
              " 289: 0.0009134914161304403,\n",
              " 290: 0.0011878704534920835,\n",
              " 291: 0.0009529785130237837,\n",
              " 292: 0.0009825585885250819,\n",
              " 293: 0.0009512088611206309,\n",
              " 294: 0.0009501799595707624,\n",
              " 295: 0.0012931397410802304,\n",
              " 296: 0.0010371327826103594,\n",
              " 297: 0.0009629898783421786,\n",
              " 298: 0.0009494579236897916,\n",
              " 299: 0.0010046543948304511,\n",
              " 300: 0.0011157052796505066,\n",
              " 301: 0.0012752823123798294,\n",
              " 302: 0.0009323236433127673,\n",
              " 303: 0.0011452905187611766,\n",
              " 304: 0.0009717032586088724,\n",
              " 305: 0.00106885845585031,\n",
              " 306: 0.0011089887607413419,\n",
              " 307: 0.0009587833089857937,\n",
              " 308: 0.0009620785683889974,\n",
              " 309: 0.001027871124979042,\n",
              " 310: 0.0009524309729474676,\n",
              " 311: 0.0009974739805598916,\n",
              " 312: 0.0009561937300019244,\n",
              " 313: 0.0009438092681766873,\n",
              " 314: 0.0010214376575807351,\n",
              " 315: 0.0009137563075518829,\n",
              " 316: 0.0010719320649981417,\n",
              " 317: 0.0009524255241466929,\n",
              " 318: 0.0010106847869027554,\n",
              " 319: 0.0009245941269078357,\n",
              " 320: 0.0010842640110858995,\n",
              " 321: 0.0011443469667597448,\n",
              " 322: 0.001047586571177355,\n",
              " 323: 0.0009994295266476572,\n",
              " 324: 0.0009557155280497945,\n",
              " 325: 0.0010131923329037209,\n",
              " 326: 0.0009874413945860265,\n",
              " 327: 0.001095864043599164,\n",
              " 328: 0.0009487230980516026,\n",
              " 329: 0.001126396243914232,\n",
              " 330: 0.0009332637791500419,\n",
              " 331: 0.0009524703242459832,\n",
              " 332: 0.0009963561169767502,\n",
              " 333: 0.0013036663826602366,\n",
              " 334: 0.0009615896478297539,\n",
              " 335: 0.0010413720412932362,\n",
              " 336: 0.0009707679605657125,\n",
              " 337: 0.0009683463589759146,\n",
              " 338: 0.0010841665116768863,\n",
              " 339: 0.0010391571722238758,\n",
              " 340: 0.0012228301885971256,\n",
              " 341: 0.000924580882977566,\n",
              " 342: 0.001124710912950563,\n",
              " 343: 0.0009365323896890535,\n",
              " 344: 0.0009707010030861655,\n",
              " 345: 0.0009598720940275575,\n",
              " 346: 0.0009462256098246732,\n",
              " 347: 0.0009698860735273737,\n",
              " 348: 0.0009048549895491985,\n",
              " 349: 0.0009910456258399244,\n",
              " 350: 0.0010791099604412547,\n",
              " 351: 0.001020883748468494,\n",
              " 352: 0.0009718652230959275,\n",
              " 353: 0.0011767024531526484,\n",
              " 354: 0.0009327560756199849,\n",
              " 355: 0.0009721679792366421,\n",
              " 356: 0.0009841127985817711,\n",
              " 357: 0.0009797405143581817,\n",
              " 358: 0.001101471043453138,\n",
              " 359: 0.0010010623845477051,\n",
              " 360: 0.000968663273170291,\n",
              " 361: 0.0009875349795818228,\n",
              " 362: 0.0010150840019470266,\n",
              " 363: 0.0010007216270567013,\n",
              " 364: 0.0009094285642272285,\n",
              " 365: 0.0010928381797137305,\n",
              " 366: 0.001168346321789081,\n",
              " 367: 0.0010501836057416514,\n",
              " 368: 0.0010025437064629865,\n",
              " 369: 0.0009388915065271083,\n",
              " 370: 0.0009857993271873118,\n",
              " 371: 0.0010517182707941003,\n",
              " 372: 0.0009650100304917593,\n",
              " 373: 0.0010222047535763826,\n",
              " 374: 0.0009631232001599112,\n",
              " 375: 0.0011322622485821468,\n",
              " 376: 0.0011464252092667747,\n",
              " 377: 0.0017694150189002497,\n",
              " 378: 0.0009496646612545614,\n",
              " 379: 0.0010929441283296481,\n",
              " 380: 0.0010942535150277092,\n",
              " 381: 0.001087963251854853,\n",
              " 382: 0.0009034543693699398,\n",
              " 383: 0.0009191461145829536,\n",
              " 384: 0.0009251542445822452,\n",
              " 385: 0.0009434649553483795,\n",
              " 386: 0.0009085303970756328,\n",
              " 387: 0.0010070333337612808,\n",
              " 388: 0.0009540195391390108,\n",
              " 389: 0.0010159088680961295,\n",
              " 390: 0.0010106565187339856,\n",
              " 391: 0.0009397206265833236,\n",
              " 392: 0.0009455021334927577,\n",
              " 393: 0.0011953633751774061,\n",
              " 394: 0.0009854482959743322,\n",
              " 395: 0.0009802452913020216,\n",
              " 396: 0.0009230850080917699,\n",
              " 397: 0.0010233090969170543,\n",
              " 398: 0.0009020144407819714,\n",
              " 399: 0.0009307007620773998,\n",
              " 400: 0.0009759271969739749,\n",
              " 401: 0.001205741908569911,\n",
              " 402: 0.0009254050263116838,\n",
              " 403: 0.0009377162274133374,\n",
              " 404: 0.0011251254307971656,\n",
              " 405: 0.0012777223214159425,\n",
              " 406: 0.000992992177811088,\n",
              " 407: 0.0009798406508001666,\n",
              " 408: 0.0011244088187585357,\n",
              " 409: 0.001154142240526788,\n",
              " 410: 0.0009102444415346177,\n",
              " 411: 0.0014321123130927082,\n",
              " 412: 0.0012270101153677715,\n",
              " 413: 0.0009603752844141199,\n",
              " 414: 0.0012802793412963723,\n",
              " 415: 0.0009406686672517952,\n",
              " 416: 0.0009019031272463801,\n",
              " 417: 0.0011399245578294723,\n",
              " 418: 0.0009577999093516857,\n",
              " 419: 0.0011489296194502295,\n",
              " 420: 0.001233478236057267,\n",
              " 421: 0.0010218299616430106,\n",
              " 422: 0.0009791690266720851,\n",
              " 423: 0.0009841034834022241,\n",
              " 424: 0.0011778260179704054,\n",
              " 425: 0.0011665980993161363,\n",
              " 426: 0.0010326462024760528,\n",
              " 427: 0.0009971534959877359,\n",
              " 428: 0.0009921345873819517,\n",
              " 429: 0.0009881300146309781,\n",
              " 430: 0.0010086388956900849,\n",
              " 431: 0.0009500202624585408,\n",
              " 432: 0.0009154294222600948,\n",
              " 433: 0.0009831925206716563,\n",
              " 434: 0.0012942581169749314,\n",
              " 435: 0.0010526112409599978,\n",
              " 436: 0.0009003043518581118,\n",
              " 437: 0.0010126340528310242,\n",
              " 438: 0.0011008034546375481,\n",
              " 439: 0.0008993831682706106,\n",
              " 440: 0.0011150418886415586,\n",
              " 441: 0.0010244089661945535,\n",
              " 442: 0.0009532274828701302,\n",
              " 443: 0.0010343778079549852,\n",
              " 444: 0.0009646236066942905,\n",
              " 445: 0.0009722014501527329,\n",
              " 446: 0.0009662961258842892,\n",
              " 447: 0.0010125964953548443,\n",
              " 448: 0.001021838729848947,\n",
              " 449: 0.0009071542957784467,\n",
              " 450: 0.001070871888004487,\n",
              " 451: 0.0009378659794818569,\n",
              " 452: 0.0011101724656613,\n",
              " 453: 0.0009620743443211646,\n",
              " 454: 0.0009063538606514369,\n",
              " 455: 0.001058050778012598,\n",
              " 456: 0.0009283123008007488,\n",
              " 457: 0.0009605608361909928,\n",
              " 458: 0.0010114977850221205,\n",
              " 459: 0.0011176359339270599,\n",
              " 460: 0.0010087717392638696,\n",
              " 461: 0.0009940476554124212,\n",
              " 462: 0.00116743866919819,\n",
              " 463: 0.0009466267001090187,\n",
              " 464: 0.0010124961050761777,\n",
              " 465: 0.0009390730964174707,\n",
              " 466: 0.0011128490562742283,\n",
              " 467: 0.0009285085304187333,\n",
              " 468: 0.00094130063194534,\n",
              " 469: 0.0009425042832624478,\n",
              " 470: 0.0009920981708607729,\n",
              " 471: 0.000932028486305273,\n",
              " 472: 0.0009180392604497074,\n",
              " 473: 0.0011479264385016853,\n",
              " 474: 0.0010678126815990036,\n",
              " 475: 0.0008987252181378095,\n",
              " 476: 0.0009124593446968184,\n",
              " 477: 0.0009314595883712705,\n",
              " 478: 0.0010271644629864236,\n",
              " 479: 0.0009339545192944168,\n",
              " 480: 0.0009785198008845147,\n",
              " 481: 0.0010118940206206646,\n",
              " 482: 0.001041290494970411,\n",
              " 483: 0.001018377446408757,\n",
              " 484: 0.0009482135234764587,\n",
              " 485: 0.0009588626214688881,\n",
              " 486: 0.0010387685103207848,\n",
              " 487: 0.0009763522037996755,\n",
              " 488: 0.0009245918802649075,\n",
              " 489: 0.0009666867497648939,\n",
              " 490: 0.0009623433760435939,\n",
              " 491: 0.0009624074742581726,\n",
              " 492: 0.000946919099648704,\n",
              " 493: 0.00115114436838253,\n",
              " 494: 0.0011517150450405316,\n",
              " 495: 0.001188715021141571,\n",
              " 496: 0.0009608923794565105,\n",
              " 497: 0.0009433403384782648,\n",
              " 498: 0.0011746748882655775,\n",
              " 499: 0.0010819784955997148,\n",
              " 500: 0.0009538654867403456,\n",
              " 501: 0.0009292553633531877,\n",
              " 502: 0.00097267449594599,\n",
              " 503: 0.0009262363409679548,\n",
              " 504: 0.001039168167232642,\n",
              " 505: 0.0009339462061008915,\n",
              " 506: 0.001137349341061139,\n",
              " 507: 0.0009254608934878133,\n",
              " 508: 0.0009754798404243936,\n",
              " 509: 0.0011761796659870859,\n",
              " 510: 0.0009443827045756672,\n",
              " 511: 0.0009833408749579985,\n",
              " 512: 0.0009186905414724899,\n",
              " 513: 0.0010384846962518091,\n",
              " 514: 0.0009266226791419495,\n",
              " 515: 0.0010086655913027188,\n",
              " 516: 0.001045195875675283,\n",
              " 517: 0.0009548906949464577,\n",
              " 518: 0.0010441269387829765,\n",
              " 519: 0.0009689050935247305,\n",
              " 520: 0.0010318518344195043,\n",
              " 521: 0.0010629989905713527,\n",
              " 522: 0.000907166601343072,\n",
              " 523: 0.001012882760635925,\n",
              " 524: 0.0009080265960489408,\n",
              " 525: 0.001052727737807887,\n",
              " 526: 0.0010751891880253104,\n",
              " 527: 0.0009321938373455365,\n",
              " 528: 0.000927579632860129,\n",
              " 529: 0.0010006515207748462,\n",
              " 530: 0.0009259317813792762,\n",
              " 531: 0.001014780680519004,\n",
              " 532: 0.0009377772100366598,\n",
              " 533: 0.0013100955832044878,\n",
              " 534: 0.0009074044285891525,\n",
              " 535: 0.0009287972662964829,\n",
              " 536: 0.0009259973246483283,\n",
              " 537: 0.0010357472925000377,\n",
              " 538: 0.0009439805065093569,\n",
              " 539: 0.0009149358181385698,\n",
              " 540: 0.0009194757215842844,\n",
              " 541: 0.0009435678088812083,\n",
              " 542: 0.0009371830800140336,\n",
              " 543: 0.001120512256335892,\n",
              " 544: 0.0010694969815520793,\n",
              " 545: 0.0009681900427397321,\n",
              " 546: 0.001233796416242991,\n",
              " 547: 0.000957679242587838,\n",
              " 548: 0.0009615473340065793,\n",
              " 549: 0.0012482944440148878,\n",
              " 550: 0.0009344522303920684,\n",
              " 551: 0.0009489728972286928,\n",
              " 552: 0.0009731719141329116,\n",
              " 553: 0.0009417482804308409,\n",
              " 554: 0.0009480355489219999,\n",
              " 555: 0.0009302627249005075,\n",
              " 556: 0.000926476439612496,\n",
              " 557: 0.000929623491460661,\n",
              " 558: 0.0009390080977718751,\n",
              " 559: 0.000943861656669639,\n",
              " 560: 0.0012165003962261846,\n",
              " 561: 0.0008992883413223376,\n",
              " 562: 0.0009761275565702239,\n",
              " 563: 0.000994958717039878,\n",
              " 564: 0.0010604691131656145,\n",
              " 565: 0.0009366363509247812,\n",
              " 566: 0.0009682914209490588,\n",
              " 567: 0.000966064963077939,\n",
              " 568: 0.0009575851324927477,\n",
              " 569: 0.0010455379701328896,\n",
              " 570: 0.0009563823087852912,\n",
              " 571: 0.0009258002181668054,\n",
              " 572: 0.000979178857195735,\n",
              " 573: 0.0009353625409881485,\n",
              " 574: 0.0009037317305933041,\n",
              " 575: 0.0009205863205146765,\n",
              " 576: 0.0009197286599539508,\n",
              " 577: 0.0010216754624800795,\n",
              " 578: 0.0009033815357152385,\n",
              " 579: 0.0009575295366552908,\n",
              " 580: 0.0009950248756218905,\n",
              " 581: 0.000970407723728663,\n",
              " 582: 0.0009280173631402062,\n",
              " 583: 0.0009021660752140976,\n",
              " 584: 0.0009048554031922789,\n",
              " 585: 0.0009367795884329905,\n",
              " 586: 0.000941170896151027,\n",
              " 587: 0.0009288094907657606,\n",
              " 588: 0.0009528896221258624,\n",
              " 589: 0.0009348235102488905,\n",
              " 590: 0.0009596014713379407,\n",
              " 591: 0.0009133636368743237,\n",
              " 592: 0.0010460489811547618,\n",
              " 593: 0.0010155128015331308,\n",
              " 594: 0.0009030261981892049,\n",
              " 595: 0.0008998921984013852,\n",
              " 596: 0.0009210497209470404,\n",
              " 597: 0.0009484316312499594,\n",
              " 598: 0.0009338466862497246,\n",
              " 599: 0.0009284137077906089,\n",
              " 600: 0.0009317176575287186,\n",
              " 601: 0.0009659125659287048,\n",
              " 602: 0.0009621286144406337,\n",
              " 603: 0.0009071542957784467,\n",
              " 604: 0.0009077243122158488,\n",
              " 605: 0.0009778589557367502,\n",
              " 606: 0.000897027012208643,\n",
              " 607: 0.0009608330133826304,\n",
              " 608: 0.0009830702472926295,\n",
              " 609: 0.000920132682427193,\n",
              " 610: 0.0009481337051958394,\n",
              " 611: 0.0010332775784860754,\n",
              " 612: 0.0010284917899788374,\n",
              " 613: 0.0009761633380248275,\n",
              " 614: 0.000950977961337324,\n",
              " 615: 0.0010525684009292733,\n",
              " 616: 0.0009129909146613267,\n",
              " 617: 0.0009141904256174189,\n",
              " 618: 0.0009573414617488155,\n",
              " 619: 0.0009144269242785805,\n",
              " 620: 0.0009286506856131217,\n",
              " 621: 0.0009586466671893669,\n",
              " 622: 0.0008980303052917,\n",
              " 623: 0.0009522019588674872,\n",
              " 624: 0.0009194596004669166,\n",
              " 625: 0.0009039009499414922,\n",
              " 626: 0.0008964390219008744,\n",
              " 627: 0.0009284187876699931,\n",
              " 628: 0.0009216091346290977,\n",
              " 629: 0.0009043830993980436,\n",
              " 630: 0.0009397089226495632,\n",
              " 631: 0.0009306716558081402,\n",
              " 632: 0.0009307053250350397,\n",
              " 633: 0.0009950248756218905,\n",
              " 634: 0.0009518503325047851,\n",
              " 635: 0.0009601029592057236,\n",
              " 636: 0.0009437298435710797,\n",
              " 637: 0.0009237391438320646,\n",
              " 638: 0.0009631056494190687,\n",
              " 639: 0.0009219969026104306,\n",
              " 640: 0.0009565709993221311,\n",
              " 641: 0.001027423504019325,\n",
              " 642: 0.0009218049585534197,\n",
              " 643: 0.0009278745001169625,\n",
              " 644: 0.0009333467538646166,\n",
              " 645: 0.0009451566596551677,\n",
              " 646: 0.0009227406816701629,\n",
              " 647: 0.000923707426328621,\n",
              " 648: 0.0009950248756218905,\n",
              " 649: 0.0009346706471267113,\n",
              " 650: 0.0008968309099387241,\n",
              " 651: 0.0009420668037283297,\n",
              " 652: 0.000907766451129666,\n",
              " 653: 0.0009950248756218905,\n",
              " 654: 0.0009861838047622456,\n",
              " 655: 0.0009595652113830153,\n",
              " 656: 0.0009291729878264625,\n",
              " 657: 0.0008969397855826938,\n",
              " 658: 0.0009950248756218905,\n",
              " 659: 0.0009440112236473802,\n",
              " 660: 0.0009950248756218905,\n",
              " 661: 0.0010072362731777744,\n",
              " 662: 0.0009379594913704404,\n",
              " 663: 0.0009372337479120848,\n",
              " 664: 0.000930489983447438,\n",
              " 665: 0.0009490819652555422,\n",
              " 666: 0.0009527291159741747,\n",
              " 667: 0.0009604760752216014,\n",
              " 668: 0.0008971314862103849,\n",
              " 669: 0.0009357853285506761,\n",
              " 670: 0.0009950248756218905,\n",
              " 671: 0.000960393190483777,\n",
              " 672: 0.0009259897780398989,\n",
              " 673: 0.0009442451371412237,\n",
              " 674: 0.0009586996719338978,\n",
              " 675: 0.0009950248756218905,\n",
              " 676: 0.0009068108243451953,\n",
              " 677: 0.0008983855365170727,\n",
              " 678: 0.0009385876362226483,\n",
              " 679: 0.0009374872805208777,\n",
              " 680: 0.0008981913454669544,\n",
              " 681: 0.0009811307452064722,\n",
              " 682: 0.0009061802749761739,\n",
              " 683: 0.0009182515937442142,\n",
              " 684: 0.0009950248756218905,\n",
              " 685: 0.0010106470904399827,\n",
              " 686: 0.0009178216787023525,\n",
              " 687: 0.0009093225726164859,\n",
              " 688: 0.0008981903777344395,\n",
              " 689: 0.0009319839678691604,\n",
              " 690: 0.0009291452010115298,\n",
              " 691: 0.0009950248756218905,\n",
              " 692: 0.0009003246781305887,\n",
              " 693: 0.0008997827158251234,\n",
              " 694: 0.0009281188366038016,\n",
              " 695: 0.0009721640647712458,\n",
              " 696: 0.0009174860750734481,\n",
              " 697: 0.0009676000806573132,\n",
              " 698: 0.0009515503938871564,\n",
              " 699: 0.0009753274198542501,\n",
              " 700: 0.000995203485685362,\n",
              " 701: 0.0008992883413223376,\n",
              " 702: 0.0008974158520718531,\n",
              " 703: 0.0009950248756218905,\n",
              " 704: 0.0009434555382200261,\n",
              " 705: 0.0009181020061583468,\n",
              " 706: 0.000956150066395616,\n",
              " 707: 0.0010293265265410168,\n",
              " 708: 0.0009527879176259152,\n",
              " 709: 0.0009043517104560533,\n",
              " 710: 0.0009500769958449642,\n",
              " 711: 0.0009950248756218905,\n",
              " 712: 0.000992813836486204,\n",
              " 713: 0.0009005373904302952,\n",
              " 714: 0.0009401820914355487,\n",
              " 715: 0.0009141657921517374,\n",
              " 716: 0.000943673444016683,\n",
              " 717: 0.0009633780124747405,\n",
              " 718: 0.0009056563175862541,\n",
              " 719: 0.0009595618951052925,\n",
              " 720: 0.0009704901055130064,\n",
              " 721: 0.0009211388907645755,\n",
              " 722: 0.0009026758155054409,\n",
              " 723: 0.0009837931084477427,\n",
              " 724: 0.0008978695440752388,\n",
              " 725: 0.0009162387153037598,\n",
              " 726: 0.000924392023433431,\n",
              " 727: 0.0009019064134351748,\n",
              " 728: 0.000958308002645955,\n",
              " 729: 0.0009156011530077403,\n",
              " 730: 0.0009182376619865569,\n",
              " 731: 0.0009950248756218905,\n",
              " 732: 0.0009950248756218905,\n",
              " 733: 0.000989400727000223,\n",
              " 734: 0.0009218183073419363,\n",
              " 735: 0.0009151998503904675,\n",
              " 736: 0.0009145012075716837,\n",
              " 737: 0.0009443112723089366,\n",
              " 738: 0.0009583945101843657,\n",
              " 739: 0.0009052627683631291,\n",
              " 740: 0.0009004594623536553,\n",
              " 741: 0.0009215804272158983,\n",
              " 742: 0.0009400732669855937,\n",
              " 743: 0.0009382382700867506,\n",
              " 744: 0.0009950248756218905,\n",
              " 745: 0.0009324297070997321,\n",
              " 746: 0.0009950248756218905,\n",
              " 747: 0.0009710689636600904,\n",
              " 748: 0.0010550915251759752,\n",
              " 749: 0.0009045299600195577,\n",
              " 750: 0.0008988672983899364,\n",
              " 751: 0.0009047703755092137,\n",
              " 752: 0.0009005211083758195,\n",
              " 753: 0.0009701350319542931,\n",
              " 754: 0.0009805624146483204,\n",
              " 755: 0.0008965373693932858,\n",
              " 756: 0.0009747673291038005,\n",
              " 757: 0.0009366944275122927,\n",
              " 758: 0.0009300903059300251,\n",
              " 759: 0.0008977627406117642,\n",
              " 760: 0.0009060463645560949,\n",
              " 761: 0.00089696231664767,\n",
              " 762: 0.0009029887491591485,\n",
              " 763: 0.000943673444016683,\n",
              " 764: 0.0009148502774800095,\n",
              " 765: 0.0009558902261471713,\n",
              " 766: 0.0009308557128724685,\n",
              " 767: 0.0009046983366171348,\n",
              " 768: 0.0009562030599175767,\n",
              " 769: 0.000907453202630066,\n",
              " 770: 0.0008983237786118928,\n",
              " 771: 0.0009059405853002797,\n",
              " 772: 0.0009950248756218905,\n",
              " 773: 0.000943754444048686,\n",
              " 774: 0.0008968949553682442,\n",
              " 775: 0.0008977338715164814,\n",
              " 776: 0.0009814260318956785,\n",
              " 777: 0.0010570637899160356,\n",
              " 778: 0.0009046032115976782,\n",
              " 779: 0.0009014893925587463,\n",
              " 780: 0.0008966618301180044,\n",
              " 781: 0.0009078336814241698,\n",
              " 782: 0.0008992497680293798,\n",
              " 783: 0.0009180989527389314,\n",
              " 784: 0.0009440972037047729,\n",
              " 785: 0.0009029037007902569,\n",
              " 786: 0.000928862977434342,\n",
              " 787: 0.0008965150304774554,\n",
              " 788: 0.0009528039420416409,\n",
              " 789: 0.0009274018640404006,\n",
              " 790: 0.0008992101274605532,\n",
              " 791: 0.0009146222594803214,\n",
              " 792: 0.0008962319625395612,\n",
              " 793: 0.0009180566569548982,\n",
              " 794: 0.0009035678827348905,\n",
              " 795: 0.0008973034413917583,\n",
              " 796: 0.0009034554443031889,\n",
              " 797: 0.0009424954717765832,\n",
              " 798: 0.0009950248756218905,\n",
              " 799: 0.0009233675470395264,\n",
              " 800: 0.0009100218054668129,\n",
              " 801: 0.0008977509519267412,\n",
              " 802: 0.000917115111025959,\n",
              " 803: 0.0009575010310522938,\n",
              " 804: 0.0009306571349812253,\n",
              " 805: 0.0009064306479593674,\n",
              " 806: 0.0009225125389406008,\n",
              " 807: 0.0009066872133240131,\n",
              " 808: 0.0009950248756218905,\n",
              " 809: 0.0010138213669822274,\n",
              " 810: 0.0009362975527340591,\n",
              " 811: 0.0009132613295236135,\n",
              " 812: 0.0010650849349221922,\n",
              " 813: 0.0010142860798478546,\n",
              " 814: 0.0009139079541616029,\n",
              " 815: 0.0009318284984348422,\n",
              " 816: 0.0009640375643047028,\n",
              " 817: 0.0009251555590717563,\n",
              " 818: 0.0009141370173487312,\n",
              " 819: 0.0009101596428574567,\n",
              " 820: 0.0012769184933519376,\n",
              " 821: 0.0008981858239930603,\n",
              " 822: 0.0009563744852627424,\n",
              " 823: 0.000976470744786056,\n",
              " 824: 0.0008976387395303159,\n",
              " 825: 0.000931523619196504,\n",
              " 826: 0.0009632861662999219,\n",
              " 827: 0.0008973569487353089,\n",
              " 828: 0.0009812229275798453,\n",
              " 829: 0.0009062889645239011,\n",
              " 830: 0.0008982301688847894,\n",
              " 831: 0.0008977071833922908,\n",
              " 832: 0.0009632522874636489,\n",
              " 833: 0.0009148457548537065,\n",
              " 834: 0.0008962769953332109,\n",
              " 835: 0.0009165638814218034,\n",
              " 836: 0.0009353151177201524,\n",
              " 837: 0.0009434555382200261,\n",
              " 838: 0.0009002294686707279,\n",
              " 839: 0.000898920595293061,\n",
              " 840: 0.0009286752903171786,\n",
              " 841: 0.000941964062463326,\n",
              " 842: 0.0008977252372761252,\n",
              " 843: 0.000916295237043738,\n",
              " 844: 0.0008992190828313003,\n",
              " 845: 0.0009750795077964232,\n",
              " 846: 0.0009684011170804145,\n",
              " 847: 0.0009663930431199201,\n",
              " 848: 0.0009011769693373004,\n",
              " 849: 0.0009177854805866492,\n",
              " 850: 0.0008989159411031958,\n",
              " 851: 0.0009858019647455655,\n",
              " 852: 0.0009483206065512803,\n",
              " 853: 0.0008962337899591625,\n",
              " 854: 0.0009026530831228485,\n",
              " 855: 0.0009044660566997245,\n",
              " 856: 0.0010575776706528775,\n",
              " 857: 0.0009000093527138517,\n",
              " 858: 0.0008977857445059373,\n",
              " 859: 0.0010689971922920533,\n",
              " 860: 0.0009739597056369405,\n",
              " 861: 0.000900018880528537,\n",
              " 862: 0.0009008080540015217,\n",
              " 863: 0.0008972950218409323,\n",
              " 864: 0.0008968862915657143,\n",
              " 865: 0.0009210500718794507,\n",
              " 866: 0.0008995660619677438,\n",
              " 867: 0.0009034898333796864,\n",
              " 868: 0.0008986968325314934,\n",
              " 869: 0.0009183502110236673,\n",
              " 870: 0.0009027573778712912,\n",
              " 871: 0.0008974917096687546,\n",
              " 872: 0.0009227229890935333,\n",
              " 873: 0.0009011736714388063,\n",
              " 874: 0.0009027573778712912,\n",
              " 875: 0.0008967545417432694,\n",
              " 876: 0.0008987358458403265,\n",
              " 877: 0.0009067367792814906,\n",
              " 878: 0.0009038071065678587,\n",
              " 879: 0.0008988299648696389,\n",
              " 880: 0.0009577731997200169,\n",
              " 881: 0.0008967102559425408,\n",
              " 882: 0.0008969121431204432,\n",
              " 883: 0.0009228211114989422,\n",
              " 884: 0.0009445334000715106,\n",
              " 885: 0.0009284658242084804,\n",
              " 886: 0.000918917551341117,\n",
              " 887: 0.0009416157887777385,\n",
              " 888: 0.0008973006304510183,\n",
              " 889: 0.0009031473093492461,\n",
              " 890: 0.0009434080845486055,\n",
              " 891: 0.0009010188344082934,\n",
              " 892: 0.00098072935615076,\n",
              " 893: 0.0008992789987078919,\n",
              " 894: 0.0008989469014529682,\n",
              " 895: 0.00089915867148816,\n",
              " 896: 0.000956046102372371,\n",
              " 897: 0.000897289341728816,\n",
              " 898: 0.0009334114653582849,\n",
              " 899: 0.0008968250859143607,\n",
              " 900: 0.0009760218842768504,\n",
              " 901: 0.00089700639325073,\n",
              " 902: 0.0008964839993236342,\n",
              " 903: 0.0009088777722010005,\n",
              " 904: 0.0008975658797740088,\n",
              " 905: 0.0009243877322759397,\n",
              " 906: 0.0009044112946498679,\n",
              " 907: 0.0009670996893642269,\n",
              " 908: 0.0009647272510921632,\n",
              " 909: 0.0009040601845742162,\n",
              " 910: 0.0008971060944921865,\n",
              " 911: 0.0008998365888547942,\n",
              " 912: 0.0009087566371759888,\n",
              " 913: 0.001012496928687594,\n",
              " 914: 0.0009509362797986333,\n",
              " 915: 0.0008979120253574617,\n",
              " 916: 0.0009071542957784467,\n",
              " 917: 0.0009851324570051396,\n",
              " 918: 0.0009771049118125266,\n",
              " 919: 0.0009259908625518279,\n",
              " 920: 0.0009070640134816774,\n",
              " 921: 0.0009210401504293052,\n",
              " 922: 0.0009699228285107166,\n",
              " 923: 0.000954959198891362,\n",
              " 924: 0.0009168316780187219,\n",
              " 925: 0.0009364606994881773,\n",
              " 926: 0.0009435441753157279,\n",
              " 927: 0.0009440932707350052,\n",
              " 928: 0.0008965373693932858,\n",
              " 929: 0.0009427965137406738,\n",
              " 930: 0.0009643416205086121,\n",
              " 931: 0.0009547446501925915,\n",
              " 932: 0.001116357155662994,\n",
              " 933: 0.0009543162008879498,\n",
              " 934: 0.0009029760773919983,\n",
              " 935: 0.0009150688180995533,\n",
              " 936: 0.0010849163708295491,\n",
              " 937: 0.0009270605137586493,\n",
              " 938: 0.0008994964322297742,\n",
              " 939: 0.00090525729042783,\n",
              " 940: 0.0008977020633472975,\n",
              " 941: 0.0008972511583073004,\n",
              " 942: 0.0009047361123588854,\n",
              " 943: 0.0008970615531919391,\n",
              " 944: 0.0008987196985444116,\n",
              " 945: 0.0009271030402640389,\n",
              " 946: 0.0009009300293962154,\n",
              " 947: 0.0009209862174024343,\n",
              " 948: 0.0008987222459526997,\n",
              " 949: 0.0009446763211720101,\n",
              " 950: 0.000989434892288718,\n",
              " 951: 0.0009366503586193475,\n",
              " 952: 0.0009301336820624071,\n",
              " 953: 0.0009660122597490508,\n",
              " 954: 0.0009042075159812424,\n",
              " 955: 0.0009237273832010296,\n",
              " 956: 0.0009304089293460378,\n",
              " 957: 0.0009258386972451797,\n",
              " 958: 0.0009460345244993774,\n",
              " 959: 0.0008968042438224466,\n",
              " 960: 0.0008968042438224466,\n",
              " 961: 0.0008968042438224466,\n",
              " 962: 0.0009306798711147903,\n",
              " 963: 0.0010032514114198178,\n",
              " 964: 0.0009055478743632609,\n",
              " 965: 0.0008996953874669935,\n",
              " 966: 0.0008982438007250544,\n",
              " 967: 0.0009076685413718317,\n",
              " 968: 0.0009322243052469325,\n",
              " 969: 0.0008991392880514364,\n",
              " 970: 0.0009054513773270934,\n",
              " 971: 0.0015524216035747525,\n",
              " 972: 0.00090252172745083,\n",
              " 973: 0.0008971388860367907,\n",
              " 974: 0.0009103251068537137,\n",
              " 975: 0.0008971388860367907,\n",
              " 976: 0.000967556242504186,\n",
              " 977: 0.0009312753258582894,\n",
              " 978: 0.0009102947860626737,\n",
              " 979: 0.0009291481927016323,\n",
              " 980: 0.0009489990612319048,\n",
              " 981: 0.000967556242504186,\n",
              " 982: 0.00089700639325073,\n",
              " 983: 0.0008986663643862673,\n",
              " 984: 0.0009013676829156772,\n",
              " 985: 0.0008978151739568012,\n",
              " 986: 0.0009029393930686863,\n",
              " 987: 0.0009213551462348891,\n",
              " 988: 0.0008996671150143048,\n",
              " 989: 0.0009310962162688744,\n",
              " 990: 0.0009441350086329021,\n",
              " 991: 0.0009024216914236549,\n",
              " 992: 0.000943515856115827,\n",
              " 993: 0.0008975667825233563,\n",
              " 994: 0.000896650853865135,\n",
              " 995: 0.0009203428862033354,\n",
              " 996: 0.0008975236167136329,\n",
              " 997: 0.000906138084761533,\n",
              " 998: 0.0008971060944921865,\n",
              " 999: 0.0008971191018405969,\n",
              " ...}"
            ]
          },
          "metadata": {},
          "execution_count": 25
        }
      ]
    },
    {
      "cell_type": "code",
      "source": [
        "plt.plot([i for i in range(1005)],list(pr.values()),c='green')\n",
        "\n",
        "plt.xlabel('Node-id')\n",
        "plt.ylabel('Pagerank')\n",
        "plt.title('Pagerank Vs Node-Id')"
      ],
      "metadata": {
        "colab": {
          "base_uri": "https://localhost:8080/",
          "height": 312
        },
        "id": "nSYuKek_ydSn",
        "outputId": "50575f23-5954-4958-f631-2151501d8637"
      },
      "execution_count": null,
      "outputs": [
        {
          "output_type": "execute_result",
          "data": {
            "text/plain": [
              "Text(0.5, 1.0, 'Pagerank Vs Node-Id')"
            ]
          },
          "metadata": {},
          "execution_count": 26
        },
        {
          "output_type": "display_data",
          "data": {
            "text/plain": [
              "<Figure size 432x288 with 1 Axes>"
            ],
            "image/png": "[encoded data removed]"
          },
          "metadata": {
            "needs_background": "light"
          }
        }
      ]
    },
    {
      "cell_type": "code",
      "source": [
        "hubs, authorities = nx.hits(G, max_iter = 10, normalized = True)"
      ],
      "metadata": {
        "id": "FApUMbMyynen"
      },
      "execution_count": null,
      "outputs": []
    },
    {
      "cell_type": "code",
      "source": [
        "plt.plot([i for i in range(1005)],list(hubs.values()),c='red')\n",
        "\n",
        "plt.xlabel('Node-id')\n",
        "plt.ylabel('Hub Score')\n",
        "plt.title('Hub Score Vs Node-Id')"
      ],
      "metadata": {
        "colab": {
          "base_uri": "https://localhost:8080/",
          "height": 312
        },
        "id": "RapCvFRZzFde",
        "outputId": "c69de55a-cfb2-49d8-ff72-82e2868082c7"
      },
      "execution_count": null,
      "outputs": [
        {
          "output_type": "execute_result",
          "data": {
            "text/plain": [
              "Text(0.5, 1.0, 'Hub Score Vs Node-Id')"
            ]
          },
          "metadata": {},
          "execution_count": 28
        },
        {
          "output_type": "display_data",
          "data": {
            "text/plain": [
              "<Figure size 432x288 with 1 Axes>"
            ],
            "image/png": "[encoded data removed]"
          },
          "metadata": {
            "needs_background": "light"
          }
        }
      ]
    },
    {
      "cell_type": "code",
      "source": [
        "plt.plot([i for i in range(1005)],list(authorities.values()),c='blue')\n",
        "\n",
        "plt.xlabel('Node-id')\n",
        "plt.ylabel('Authority Score')\n",
        "plt.title('Authority Score Vs Node-Id')"
      ],
      "metadata": {
        "colab": {
          "base_uri": "https://localhost:8080/",
          "height": 312
        },
        "id": "UibsolEOzyAn",
        "outputId": "fe0e3afb-f19a-458e-842c-2b3d30564192"
      },
      "execution_count": null,
      "outputs": [
        {
          "output_type": "execute_result",
          "data": {
            "text/plain": [
              "Text(0.5, 1.0, 'Authority Score Vs Node-Id')"
            ]
          },
          "metadata": {},
          "execution_count": 29
        },
        {
          "output_type": "display_data",
          "data": {
            "text/plain": [
              "<Figure size 432x288 with 1 Axes>"
            ],
            "image/png": "[encoded data removed]"
          },
          "metadata": {
            "needs_background": "light"
          }
        }
      ]
    },
    {
      "cell_type": "code",
      "source": [
        ""
      ],
      "metadata": {
        "id": "fAzE_yg60EKO"
      },
      "execution_count": null,
      "outputs": []
    }
  ]
}